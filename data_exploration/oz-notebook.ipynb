{
 "cells": [
  {
   "cell_type": "code",
   "execution_count": null,
   "id": "foreign-tyler",
   "metadata": {},
   "outputs": [],
   "source": [
    "import pandas as pd\n",
    "import seaborn as sns\n",
    "import numpy as np\n",
    "from matplotlib import pyplot as plt\n",
    "from ase.io import read as ase_read\n",
    "from sklearn.decomposition import PCA\n",
    "import random\n",
    "%matplotlib widget"
   ]
  },
  {
   "cell_type": "code",
   "execution_count": null,
   "id": "enabling-approval",
   "metadata": {},
   "outputs": [],
   "source": [
    "dataset_path = '../datasets/40-cspbbr3-all.xyz'"
   ]
  },
  {
   "cell_type": "code",
   "execution_count": null,
   "id": "alternative-insurance",
   "metadata": {},
   "outputs": [],
   "source": [
    "atoms = ase_read(dataset_path, index=f':')\n",
    "print(len(atoms))"
   ]
  },
  {
   "cell_type": "code",
   "execution_count": null,
   "id": "minor-pitch",
   "metadata": {},
   "outputs": [],
   "source": [
    "atoms_sample = random.sample(atoms, k=1000)\n",
    "# atoms_sample = atoms[:10000]"
   ]
  },
  {
   "cell_type": "code",
   "execution_count": null,
   "id": "beneficial-arkansas",
   "metadata": {},
   "outputs": [],
   "source": [
    "X = np.array([a.get_positions().flatten() for a in atoms_sample])\n",
    "F =  np.array([a.get_forces().flatten() for a in atoms_sample])\n",
    "E =  np.array([a.get_potential_energy() for a in atoms_sample])"
   ]
  },
  {
   "cell_type": "markdown",
   "id": "confused-construction",
   "metadata": {},
   "source": [
    "## PCA!"
   ]
  },
  {
   "cell_type": "code",
   "execution_count": null,
   "id": "established-holmes",
   "metadata": {},
   "outputs": [],
   "source": [
    "pca = PCA(n_components=3)\n",
    "pca.fit(X)\n",
    "X_trans = pca.transform(X)"
   ]
  },
  {
   "cell_type": "code",
   "execution_count": null,
   "id": "regular-ivory",
   "metadata": {},
   "outputs": [],
   "source": [
    "plt.close('all')\n",
    "fig = plt.figure()\n",
    "ax = fig.add_subplot(projection='3d')\n",
    "cm = plt.cm.get_cmap('RdYlBu')\n",
    "c = [(e-np.mean(E))/np.std(E) for e in E]\n",
    "E_log = np.log(-E)\n",
    "E_log = E\n",
    "\n",
    "sc = ax.scatter(X_trans[:,0], X_trans[:, 1],X_trans[:, 2], c=E_log, vmin=min(E_log), vmax=max(E_log), s=1, cmap=cm)\n",
    "plt.colorbar(sc)\n",
    "plt.show()"
   ]
  },
  {
   "cell_type": "markdown",
   "id": "charged-enlargement",
   "metadata": {},
   "source": [
    "# Decision Trees"
   ]
  },
  {
   "cell_type": "code",
   "execution_count": null,
   "id": "freelance-figure",
   "metadata": {},
   "outputs": [],
   "source": [
    "from sklearn.tree import DecisionTreeRegressor\n",
    "from sklearn.ensemble import AdaBoostRegressor\n",
    "from sklearn.metrics import mean_squared_error\n",
    "from sklearn.model_selection import train_test_split"
   ]
  },
  {
   "cell_type": "code",
   "execution_count": null,
   "id": "welsh-directive",
   "metadata": {},
   "outputs": [],
   "source": [
    "X = np.array([a.get_positions().flatten() for a in atoms_sample])\n",
    "F =  np.array([a.get_forces().flatten() for a in atoms_sample])\n",
    "E =  np.array([a.get_potential_energy() for a in atoms_sample])\n",
    "pca = PCA(n_components=3)\n",
    "pca.fit(X)\n",
    "X_trans = pca.transform(X)\n",
    "X_train, X_test, y_train, y_test = train_test_split(X, E,  test_size=0.25)"
   ]
  },
  {
   "cell_type": "code",
   "execution_count": null,
   "id": "terminal-silly",
   "metadata": {},
   "outputs": [],
   "source": [
    "max_depth = 50\n",
    "tree_regr = DecisionTreeRegressor(max_depth=max_depth)\n",
    "n_estimators = 300\n",
    "ada_regr = AdaBoostRegressor(DecisionTreeRegressor(max_depth=max_depth),\n",
    "                          n_estimators=n_estimators, random_state=np.random.RandomState(1))"
   ]
  },
  {
   "cell_type": "code",
   "execution_count": null,
   "id": "present-waterproof",
   "metadata": {},
   "outputs": [],
   "source": [
    "tree_regr.fit(X_train, y_train)\n",
    "# ada_regr.fit(X_train, y_train)"
   ]
  },
  {
   "cell_type": "code",
   "execution_count": null,
   "id": "addressed-cooler",
   "metadata": {},
   "outputs": [],
   "source": [
    "y_tree = tree_regr.predict(X_test)\n",
    "# y_ada = ada_regr.predict(X_test)"
   ]
  },
  {
   "cell_type": "code",
   "execution_count": null,
   "id": "narrow-tennessee",
   "metadata": {},
   "outputs": [],
   "source": [
    "# Plot the results\n",
    "plt.close('all')\n",
    "fig, (ax0, ax1) = plt.subplots(nrows=1, ncols=2, sharex=True,sharey=True,\n",
    "                                    figsize=(12, 6))\n",
    "x = range(len(E))\n",
    "rmse = mean_squared_error(y_test, y_tree, squared=False)\n",
    "ax0.scatter(y_test.flatten(), y_tree.flatten(), c=\"g\", label=f\"n_estimators=1, RMSE: {rmse:.5f}\", linewidth=2, alpha=0.2)\n",
    "# rmse = mean_squared_error(y_test, y_ada, squared=False)\n",
    "# ax1.scatter(y_test, y_ada, c=\"b\", label=f\"n_estimators={n_estimators}, RMSE: {rmse:.5f}\", linewidth=2, alpha=0.2)\n",
    "\n",
    "ax0.set_xlabel(\"data\")\n",
    "ax1.set_xlabel(\"data\")\n",
    "ax0.set_ylabel(\"target\")\n",
    "# plt.title(\"Boosted Decision Tree Regression\")\n",
    "ax0.legend()\n",
    "ax1.legend()\n",
    "plt.show()"
   ]
  },
  {
   "cell_type": "markdown",
   "id": "assured-nothing",
   "metadata": {},
   "source": [
    "# Gaussian process"
   ]
  },
  {
   "cell_type": "code",
   "execution_count": null,
   "id": "permanent-lying",
   "metadata": {},
   "outputs": [],
   "source": [
    "atoms_sample = random.sample(atoms, k=100)\n",
    "X = np.array([a.get_positions().flatten() for a in atoms_sample])\n",
    "F =  np.array([a.get_forces().flatten() for a in atoms_sample])\n",
    "E =  np.array([a.get_potential_energy() for a in atoms_sample])\n",
    "pca = PCA(n_components=3)\n",
    "pca.fit(X)\n",
    "X_trans = pca.transform(X)\n",
    "X_train, X_test, y_train, y_test = train_test_split(X, F,  test_size=0.25)"
   ]
  },
  {
   "cell_type": "code",
   "execution_count": null,
   "id": "analyzed-expert",
   "metadata": {},
   "outputs": [],
   "source": [
    "from sklearn.gaussian_process import GaussianProcessRegressor\n",
    "from sklearn.gaussian_process.kernels import RBF, DotProduct, ConstantKernel, Matern"
   ]
  },
  {
   "cell_type": "code",
   "execution_count": null,
   "id": "distinct-music",
   "metadata": {},
   "outputs": [],
   "source": [
    "plt.close('all')\n",
    "kernels = [ConstantKernel() * RBF(length_scale=1.0), ConstantKernel() * (DotProduct(sigma_0=1.0)**2), Matern(nu=2.5)]\n",
    "fig, axs = plt.subplots(nrows=len(kernels), ncols=1, sharex=True,sharey=True,\n",
    "                                    figsize=(12, 6))\n",
    "for i, kernel in enumerate(kernels):\n",
    "    regr = GaussianProcessRegressor(kernel=kernel)\n",
    "\n",
    "    # plot the decision function for each datapoint on the grid\n",
    "    regr.fit(X_train, y_train)\n",
    "    y_regr = regr.predict(X_test)\n",
    "\n",
    "    rmse = mean_squared_error(y_test, y_regr, squared=False)\n",
    "    axs[i].scatter(y_test.flatten(), y_regr.flatten(), c=\"g\", label=f\"RMSE: {rmse:.5f}\", linewidth=2, alpha=0.2)\n",
    "    axs[i].legend()\n",
    "    axs[i].set_title(f'kernel: {kernel}')\n",
    "    \n",
    "plt.show()\n"
   ]
  }
 ],
 "metadata": {
  "kernelspec": {
   "display_name": "Python 3",
   "language": "python",
   "name": "python3"
  },
  "language_info": {
   "codemirror_mode": {
    "name": "ipython",
    "version": 3
   },
   "file_extension": ".py",
   "mimetype": "text/x-python",
   "name": "python",
   "nbconvert_exporter": "python",
   "pygments_lexer": "ipython3",
   "version": "3.8.5"
  }
 },
 "nbformat": 4,
 "nbformat_minor": 5
}
