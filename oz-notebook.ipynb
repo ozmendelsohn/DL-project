{
 "cells": [
  {
   "cell_type": "code",
   "execution_count": null,
   "id": "defensive-prefix",
   "metadata": {},
   "outputs": [],
   "source": [
    "import os\n",
    "path = '../work/sgdml/cspbbr3/cspbbr3-hightemp-run/'\n",
    "with open('folders.txt', 'r') as f:\n",
    "    folders = f.readlines()\n",
    "    folders = [path + f.strip() for f in folders]\n",
    "\n",
    "for folder in folders:\n",
    "    try:\n",
    "        for x in os.listdir(folder):\n",
    "            if '.pbs' in x:\n",
    "                pbs_file = x\n",
    "    except FileNotFoundError:\n",
    "        continue\n",
    "\n",
    "    with open(f'{folder}/{pbs_file}', 'r') as f:\n",
    "        python_line = f.readlines()[18]\n",
    "        temp_arg = python_line.split()[6]\n",
    "        temp = int(temp_arg.split('=')[1])\n",
    "        im = 0\n",
    "    for file in os.listdir(f'{folder}/snapshots'):\n",
    "        i = int(file.split('-')[1].split('.')[0])\n",
    "        if i > im:\n",
    "            im = i\n",
    "    print(f'max file index: {im}')\n",
    "    all_snapshots = ''\n",
    "    for i in range(im + 1):\n",
    "        with open(f'{folder}/snapshots/cspbbr3-{i}.xyz', 'r') as f:\n",
    "            all_snapshots += f.read()\n",
    "    with open(f'datasets/40-cspbbr3-{temp}K.xyz', 'w') as f:\n",
    "        f.write(all_snapshots)"
   ]
  },
  {
   "cell_type": "code",
   "execution_count": 1,
   "id": "intended-revolution",
   "metadata": {},
   "outputs": [],
   "source": [
    "import os\n",
    "from torch.utils.data import Dataset\n",
    "import torch\n",
    "import pandas as pd\n",
    "import numpy as np\n",
    "from ase import io\n",
    "from tqdm import tqdm\n",
    "\n",
    "\n",
    "class xyzDataset(Dataset):\n",
    "    def __init__(self, df, target='energy'):\n",
    "        \"\"\"\n",
    "        :type df: DataFrame\n",
    "        \"\"\"\n",
    "        x_col, y_col = [], []\n",
    "        for col in df.columns: \n",
    "            if 'position' in col:\n",
    "                x_col.append(col)\n",
    "        if target == 'energy':\n",
    "            y_col.append('E')\n",
    "        elif target == 'force':\n",
    "            for col in df.columns:\n",
    "                if 'force' in col:\n",
    "                    y_col.append(col)\n",
    "        self.df = df\n",
    "        self.x_col = x_col\n",
    "        self.y_col = y_col\n",
    "        self.n_samples = len(df)\n",
    "\n",
    "    def __getitem__(self, index):\n",
    "        x = torch.Tensor(self.df.loc[index, self.x_col].values)\n",
    "        y = torch.Tensor(self.df.loc[index, self.y_col].values)\n",
    "        return x, y\n",
    "\n",
    "    def __len__(self):\n",
    "        return self.n_samples\n",
    "\n",
    "def atoms_dict(atoms):\n",
    "    d = {}\n",
    "    for i, (s, pos) in enumerate(zip(atoms.symbols, atoms.positions)):\n",
    "        d[str(i + 1) + s + '_position_x'] = pos[0]\n",
    "        d[str(i + 1) + s + '_position_y'] = pos[1]\n",
    "        d[str(i + 1) + s + '_position_z'] = pos[2]\n",
    "    try:\n",
    "        for i, (s, f) in enumerate(zip(atoms.symbols, atoms.get_forces())):\n",
    "            d[str(i + 1) + s + '_force_x'] = f[0]\n",
    "            d[str(i + 1) + s + '_force_y'] = f[1]\n",
    "            d[str(i + 1) + s + '_force_z'] = f[2]\n",
    "    except RuntimeError:\n",
    "        pass\n",
    "    return d\n",
    "\n",
    "def dataframe_from_xyz(xyz_file):\n",
    "    molecules = io.read(xyz_file, index=':')\n",
    "    molecules = [mol for mol in molecules if mol.get_calculator() is not None] # filter incomplete outputs from trajectory\n",
    "    lattice = np.array(molecules[0].get_cell())\n",
    "    Z = np.array([mol.get_atomic_numbers() for mol in molecules])\n",
    "    all_z_the_same = (Z == Z[0]).all()\n",
    "    if not all_z_the_same:\n",
    "        print('Order of atoms changes accross dataset!\\n Bye!')\n",
    "        exit()\n",
    "    z = Z[0]\n",
    "    df = pd.DataFrame()\n",
    "    for mol in molecules:\n",
    "        line_dict = dict(E=mol.get_potential_energy())\n",
    "        line_dict.update(atoms_dict(mol))\n",
    "        df = df.append(line_dict, ignore_index=True)\n",
    "    return df"
   ]
  },
  {
   "cell_type": "code",
   "execution_count": 2,
   "id": "sunset-resort",
   "metadata": {},
   "outputs": [],
   "source": [
    "df = dataframe_from_xyz('datasets/40-cspbbr3-1016K.xyz')"
   ]
  },
  {
   "cell_type": "code",
   "execution_count": 7,
   "id": "north-wheel",
   "metadata": {},
   "outputs": [],
   "source": [
    "from torch import nn\n",
    "import torch.functional as F\n",
    "\n",
    "\n",
    "class energy_nn(nn.Module):\n",
    "    def __init__(self, input_size, hidden1_size=128, hidden2_size=128):\n",
    "        super(energy_nn, self).__init__()\n",
    "        self.dense1 = nn.Linear(input_size, hidden1_size)\n",
    "        self.active1 = nn.ReLU()\n",
    "        self.dense2 = nn.Linear(hidden1_size, hidden2_size)\n",
    "        self.active2 = nn.ReLU()\n",
    "        self.dense_out = nn.Linear(hidden2_size, 1)\n",
    "\n",
    "    def forward(self, inputs):\n",
    "        x = self.active1(self.dense1(inputs))\n",
    "        x = self.active2(self.dense2(x))\n",
    "        x = self.dense_out(x)\n",
    "        return x\n"
   ]
  },
  {
   "cell_type": "code",
   "execution_count": 16,
   "id": "biblical-poker",
   "metadata": {},
   "outputs": [
    {
     "name": "stdout",
     "output_type": "stream",
     "text": [
      "starting: nicely clear ape\n",
      "Let's use cuda!\n"
     ]
    },
    {
     "name": "stderr",
     "output_type": "stream",
     "text": [
      "100%|████████████████████████████████████████████████████████████████████████████████████████████████████████████████████████████████████████████████████| 1/1 [00:48<00:00, 48.89s/it]\n"
     ]
    }
   ],
   "source": [
    "from data_utils import *\n",
    "from model import *\n",
    "from scipy import stats\n",
    "from sklearn.metrics import mean_squared_error\n",
    "from ase.io import read\n",
    "import torch\n",
    "import torch.nn as nn\n",
    "from torch.utils.tensorboard import SummaryWriter\n",
    "import torch.nn.functional as F\n",
    "from torch.utils.data import Dataset, DataLoader\n",
    "import torch.optim as optim\n",
    "from tqdm import tqdm\n",
    "import petname\n",
    "\n",
    "name = petname.Generate(3, ' ', 10)\n",
    "print(f'starting: {name}')\n",
    "writer = SummaryWriter(log_dir=f'runs/{name}')\n",
    "\n",
    "USE_GPU = True\n",
    "if USE_GPU and torch.cuda.is_available():\n",
    "    device = torch.device('cuda')\n",
    "else:\n",
    "    device = torch.device('cpu')\n",
    "print(f'Let\\'s use {device}!')\n",
    "\n",
    "n_atoms = read('40-cspbbr3-795K.xyz').get_global_number_of_atoms()\n",
    "\n",
    "EPOCHS = 100\n",
    "batch_size = 100\n",
    "lr = 1e-4\n",
    "RELOAD_DATA = True\n",
    "\n",
    "training_datasets = ['datasets/40-cspbbr3-355K.xyz']\n",
    "if RELOAD_DATA:\n",
    "    df_train = pd.DataFrame()\n",
    "    for td in tqdm(training_datasets):\n",
    "        df_train = df_train.append(dataframe_from_xyz(td), ignore_index=True)\n",
    "    df_train.to_json('df_train.json')\n",
    "else:\n",
    "    df_train = pd.read_json('df_train.json')"
   ]
  },
  {
   "cell_type": "code",
   "execution_count": 17,
   "id": "descending-possible",
   "metadata": {},
   "outputs": [],
   "source": [
    "# df_train = dataframe_from_xyz('datasets/40-cspbbr3-795K.xyz')\n",
    "trainset = torch.utils.data.DataLoader(xyzDataset(df_train, target='energy'), batch_size=batch_size, shuffle=True)\n",
    "df_test = dataframe_from_xyz('datasets/40-cspbbr3-300K.xyz')\n",
    "testset = torch.utils.data.DataLoader(xyzDataset(df_test, target='energy'), batch_size=batch_size, shuffle=True)"
   ]
  },
  {
   "cell_type": "code",
   "execution_count": 18,
   "id": "surprised-sender",
   "metadata": {},
   "outputs": [
    {
     "data": {
      "text/plain": [
       "energy_nn(\n",
       "  (dense1): Linear(in_features=120, out_features=128, bias=True)\n",
       "  (active1): ReLU()\n",
       "  (dense2): Linear(in_features=128, out_features=128, bias=True)\n",
       "  (active2): ReLU()\n",
       "  (dense_out): Linear(in_features=128, out_features=1, bias=True)\n",
       ")"
      ]
     },
     "execution_count": 18,
     "metadata": {},
     "output_type": "execute_result"
    }
   ],
   "source": [
    "net = energy_nn(n_atoms * 3, hidden1_size=128, hidden2_size=128)\n",
    "optimizer = optim.Adam(net.parameters(), lr=lr)\n",
    "criteria = nn.SmoothL1Loss()  # reduction='sum'\n",
    "net.to(device)"
   ]
  },
  {
   "cell_type": "code",
   "execution_count": 19,
   "id": "downtown-broadcast",
   "metadata": {},
   "outputs": [],
   "source": [
    "X = torch.rand(1, n_atoms * 3).to(device)\n",
    "writer.add_graph(net, X)"
   ]
  },
  {
   "cell_type": "code",
   "execution_count": 20,
   "id": "improved-observer",
   "metadata": {},
   "outputs": [],
   "source": [
    "def test_loss(nn, testset, criteria):\n",
    "    with torch.no_grad():\n",
    "        for i, (X, y) in enumerate(testset):\n",
    "            X = X.to(device=device).float()\n",
    "            y = y.to(device=device).float()\n",
    "            output = nn(X)\n",
    "            y = y.view(-1, 1)\n",
    "            val_loss = criteria(y, output)\n",
    "            break\n",
    "        return val_loss\n",
    "\n",
    "\n",
    "def test_model(nn, testset):\n",
    "    with torch.no_grad():\n",
    "        for i, (X, y) in enumerate(testset):\n",
    "            X = X.to(device=device).float()\n",
    "            y = y.to(device=device).float()\n",
    "            output = nn(X)\n",
    "            y = y.view(-1, 1)\n",
    "            break\n",
    "        x = [i[0].to(device=torch.device('cpu')).detach().numpy() for i in output]\n",
    "        t = [i[0].to(device=torch.device('cpu')).detach().numpy() for i in y]\n",
    "        RMSE = mean_squared_error(x, t, squared=False)\n",
    "        MSE = mean_squared_error(x, t, squared=True)\n",
    "        a, b, r2 = get_linregress(x, t)\n",
    "        return x, t, r2, a, b, RMSE, MSE\n",
    "\n",
    "\n",
    "def get_linregress(x, y):\n",
    "    with torch.no_grad():\n",
    "        slope, intercept, r_value, p_value, std_err = stats.linregress(x, y)\n",
    "        if np.isnan(r_value):\n",
    "            r_value = 0\n",
    "        if np.isnan(slope):\n",
    "            slope = 0\n",
    "        return slope, intercept, r_value ** 2"
   ]
  },
  {
   "cell_type": "code",
   "execution_count": 21,
   "id": "specialized-watershed",
   "metadata": {},
   "outputs": [
    {
     "name": "stderr",
     "output_type": "stream",
     "text": [
      "  1%|█▍                                                                                                                                                | 1/100 [00:26<44:01, 26.68s/it]"
     ]
    },
    {
     "name": "stdout",
     "output_type": "stream",
     "text": [
      "validation los: 131.97091674804688\n"
     ]
    },
    {
     "name": "stderr",
     "output_type": "stream",
     "text": [
      "\r",
      "  2%|██▉                                                                                                                                               | 2/100 [00:53<44:07, 27.01s/it]"
     ]
    },
    {
     "name": "stdout",
     "output_type": "stream",
     "text": [
      "validation los: 94.99209594726562\n"
     ]
    },
    {
     "name": "stderr",
     "output_type": "stream",
     "text": [
      "\r",
      "  3%|████▍                                                                                                                                             | 3/100 [01:20<43:02, 26.62s/it]"
     ]
    },
    {
     "name": "stdout",
     "output_type": "stream",
     "text": [
      "validation los: 3.2259950637817383\n"
     ]
    },
    {
     "name": "stderr",
     "output_type": "stream",
     "text": [
      "\r",
      "  4%|█████▊                                                                                                                                            | 4/100 [01:46<42:33, 26.60s/it]"
     ]
    },
    {
     "name": "stdout",
     "output_type": "stream",
     "text": [
      "validation los: 1.4244685173034668\n"
     ]
    },
    {
     "name": "stderr",
     "output_type": "stream",
     "text": [
      "\r",
      "  5%|███████▎                                                                                                                                          | 5/100 [02:12<41:51, 26.44s/it]"
     ]
    },
    {
     "name": "stdout",
     "output_type": "stream",
     "text": [
      "validation los: 1.3662605285644531\n"
     ]
    },
    {
     "name": "stderr",
     "output_type": "stream",
     "text": [
      "\r",
      "  6%|████████▊                                                                                                                                         | 6/100 [02:42<43:07, 27.53s/it]"
     ]
    },
    {
     "name": "stdout",
     "output_type": "stream",
     "text": [
      "validation los: 1.2414653301239014\n"
     ]
    },
    {
     "name": "stderr",
     "output_type": "stream",
     "text": [
      "\r",
      "  7%|██████████▏                                                                                                                                       | 7/100 [03:09<42:15, 27.26s/it]"
     ]
    },
    {
     "name": "stdout",
     "output_type": "stream",
     "text": [
      "validation los: 0.81920325756073\n"
     ]
    },
    {
     "name": "stderr",
     "output_type": "stream",
     "text": [
      "\r",
      "  8%|███████████▋                                                                                                                                      | 8/100 [03:35<41:20, 26.97s/it]"
     ]
    },
    {
     "name": "stdout",
     "output_type": "stream",
     "text": [
      "validation los: 0.82822585105896\n"
     ]
    },
    {
     "name": "stderr",
     "output_type": "stream",
     "text": [
      "\r",
      "  9%|█████████████▏                                                                                                                                    | 9/100 [04:00<40:09, 26.48s/it]"
     ]
    },
    {
     "name": "stdout",
     "output_type": "stream",
     "text": [
      "validation los: 0.5936441421508789\n"
     ]
    },
    {
     "name": "stderr",
     "output_type": "stream",
     "text": [
      "\r",
      " 10%|██████████████▌                                                                                                                                  | 10/100 [04:25<38:40, 25.78s/it]"
     ]
    },
    {
     "name": "stdout",
     "output_type": "stream",
     "text": [
      "validation los: 0.4950723946094513\n"
     ]
    },
    {
     "name": "stderr",
     "output_type": "stream",
     "text": [
      "\r",
      " 11%|███████████████▉                                                                                                                                 | 11/100 [04:50<38:12, 25.76s/it]"
     ]
    },
    {
     "name": "stdout",
     "output_type": "stream",
     "text": [
      "validation los: 0.3946901559829712\n"
     ]
    },
    {
     "name": "stderr",
     "output_type": "stream",
     "text": [
      "\r",
      " 12%|█████████████████▍                                                                                                                               | 12/100 [05:15<37:10, 25.34s/it]"
     ]
    },
    {
     "name": "stdout",
     "output_type": "stream",
     "text": [
      "validation los: 0.35432180762290955\n"
     ]
    },
    {
     "name": "stderr",
     "output_type": "stream",
     "text": [
      "\r",
      " 13%|██████████████████▊                                                                                                                              | 13/100 [05:40<36:45, 25.35s/it]"
     ]
    },
    {
     "name": "stdout",
     "output_type": "stream",
     "text": [
      "validation los: 0.18722884356975555\n"
     ]
    },
    {
     "name": "stderr",
     "output_type": "stream",
     "text": [
      "\r",
      " 14%|████████████████████▎                                                                                                                            | 14/100 [06:05<35:57, 25.09s/it]"
     ]
    },
    {
     "name": "stdout",
     "output_type": "stream",
     "text": [
      "validation los: 0.20985561609268188\n"
     ]
    },
    {
     "name": "stderr",
     "output_type": "stream",
     "text": [
      "\r",
      " 15%|█████████████████████▊                                                                                                                           | 15/100 [06:33<36:51, 26.02s/it]"
     ]
    },
    {
     "name": "stdout",
     "output_type": "stream",
     "text": [
      "validation los: 0.1532306671142578\n"
     ]
    },
    {
     "name": "stderr",
     "output_type": "stream",
     "text": [
      "\r",
      " 16%|███████████████████████▏                                                                                                                         | 16/100 [07:02<37:35, 26.86s/it]"
     ]
    },
    {
     "name": "stdout",
     "output_type": "stream",
     "text": [
      "validation los: 0.12203395366668701\n"
     ]
    },
    {
     "name": "stderr",
     "output_type": "stream",
     "text": [
      "\r",
      " 17%|████████████████████████▋                                                                                                                        | 17/100 [07:30<37:43, 27.27s/it]"
     ]
    },
    {
     "name": "stdout",
     "output_type": "stream",
     "text": [
      "validation los: 0.12224328517913818\n"
     ]
    },
    {
     "name": "stderr",
     "output_type": "stream",
     "text": [
      "\r",
      " 18%|██████████████████████████                                                                                                                       | 18/100 [07:57<37:15, 27.26s/it]"
     ]
    },
    {
     "name": "stdout",
     "output_type": "stream",
     "text": [
      "validation los: 0.1139594316482544\n"
     ]
    },
    {
     "name": "stderr",
     "output_type": "stream",
     "text": [
      "\r",
      " 19%|███████████████████████████▌                                                                                                                     | 19/100 [08:24<36:32, 27.07s/it]"
     ]
    },
    {
     "name": "stdout",
     "output_type": "stream",
     "text": [
      "validation los: 0.1201678067445755\n"
     ]
    },
    {
     "name": "stderr",
     "output_type": "stream",
     "text": [
      "\r",
      " 20%|█████████████████████████████                                                                                                                    | 20/100 [08:51<36:10, 27.13s/it]"
     ]
    },
    {
     "name": "stdout",
     "output_type": "stream",
     "text": [
      "validation los: 0.06360790878534317\n"
     ]
    },
    {
     "name": "stderr",
     "output_type": "stream",
     "text": [
      "\r",
      " 21%|██████████████████████████████▍                                                                                                                  | 21/100 [09:20<36:30, 27.72s/it]"
     ]
    },
    {
     "name": "stdout",
     "output_type": "stream",
     "text": [
      "validation los: 0.07726316899061203\n"
     ]
    },
    {
     "name": "stderr",
     "output_type": "stream",
     "text": [
      "\r",
      " 22%|███████████████████████████████▉                                                                                                                 | 22/100 [09:49<36:42, 28.24s/it]"
     ]
    },
    {
     "name": "stdout",
     "output_type": "stream",
     "text": [
      "validation los: 0.13427682220935822\n"
     ]
    },
    {
     "name": "stderr",
     "output_type": "stream",
     "text": [
      "\r",
      " 23%|█████████████████████████████████▎                                                                                                               | 23/100 [10:16<35:41, 27.81s/it]"
     ]
    },
    {
     "name": "stdout",
     "output_type": "stream",
     "text": [
      "validation los: 0.10689609497785568\n"
     ]
    },
    {
     "name": "stderr",
     "output_type": "stream",
     "text": [
      "\r",
      " 24%|██████████████████████████████████▊                                                                                                              | 24/100 [10:41<33:57, 26.80s/it]"
     ]
    },
    {
     "name": "stdout",
     "output_type": "stream",
     "text": [
      "validation los: 0.07903466373682022\n"
     ]
    },
    {
     "name": "stderr",
     "output_type": "stream",
     "text": [
      "\r",
      " 25%|████████████████████████████████████▎                                                                                                            | 25/100 [11:05<32:29, 26.00s/it]"
     ]
    },
    {
     "name": "stdout",
     "output_type": "stream",
     "text": [
      "validation los: 0.09652528911828995\n"
     ]
    },
    {
     "name": "stderr",
     "output_type": "stream",
     "text": [
      "\r",
      " 26%|█████████████████████████████████████▋                                                                                                           | 26/100 [11:29<31:24, 25.47s/it]"
     ]
    },
    {
     "name": "stdout",
     "output_type": "stream",
     "text": [
      "validation los: 0.07025512307882309\n"
     ]
    },
    {
     "name": "stderr",
     "output_type": "stream",
     "text": [
      "\r",
      " 27%|███████████████████████████████████████▏                                                                                                         | 27/100 [11:54<30:36, 25.16s/it]"
     ]
    },
    {
     "name": "stdout",
     "output_type": "stream",
     "text": [
      "validation los: 0.0851210281252861\n"
     ]
    },
    {
     "name": "stderr",
     "output_type": "stream",
     "text": [
      "\r",
      " 28%|████████████████████████████████████████▌                                                                                                        | 28/100 [12:21<31:04, 25.89s/it]"
     ]
    },
    {
     "name": "stdout",
     "output_type": "stream",
     "text": [
      "validation los: 0.0758998766541481\n"
     ]
    },
    {
     "name": "stderr",
     "output_type": "stream",
     "text": [
      "\r",
      " 29%|██████████████████████████████████████████                                                                                                       | 29/100 [12:52<32:24, 27.39s/it]"
     ]
    },
    {
     "name": "stdout",
     "output_type": "stream",
     "text": [
      "validation los: 0.08956558257341385\n"
     ]
    },
    {
     "name": "stderr",
     "output_type": "stream",
     "text": [
      "\r",
      " 30%|███████████████████████████████████████████▌                                                                                                     | 30/100 [13:22<32:55, 28.22s/it]"
     ]
    },
    {
     "name": "stdout",
     "output_type": "stream",
     "text": [
      "validation los: 0.1260620504617691\n"
     ]
    },
    {
     "name": "stderr",
     "output_type": "stream",
     "text": [
      "\r",
      " 31%|████████████████████████████████████████████▉                                                                                                    | 31/100 [13:52<32:57, 28.66s/it]"
     ]
    },
    {
     "name": "stdout",
     "output_type": "stream",
     "text": [
      "validation los: 0.13369089365005493\n"
     ]
    },
    {
     "name": "stderr",
     "output_type": "stream",
     "text": [
      "\r",
      " 32%|██████████████████████████████████████████████▍                                                                                                  | 32/100 [14:22<33:07, 29.22s/it]"
     ]
    },
    {
     "name": "stdout",
     "output_type": "stream",
     "text": [
      "validation los: 0.14537307620048523\n"
     ]
    },
    {
     "name": "stderr",
     "output_type": "stream",
     "text": [
      "\r",
      " 33%|███████████████████████████████████████████████▊                                                                                                 | 33/100 [14:54<33:21, 29.87s/it]"
     ]
    },
    {
     "name": "stdout",
     "output_type": "stream",
     "text": [
      "validation los: 0.06214269623160362\n"
     ]
    },
    {
     "name": "stderr",
     "output_type": "stream",
     "text": [
      "\r",
      " 34%|█████████████████████████████████████████████████▎                                                                                               | 34/100 [15:24<33:06, 30.10s/it]"
     ]
    },
    {
     "name": "stdout",
     "output_type": "stream",
     "text": [
      "validation los: 0.0924094095826149\n"
     ]
    },
    {
     "name": "stderr",
     "output_type": "stream",
     "text": [
      "\r",
      " 35%|██████████████████████████████████████████████████▊                                                                                              | 35/100 [15:57<33:27, 30.88s/it]"
     ]
    },
    {
     "name": "stdout",
     "output_type": "stream",
     "text": [
      "validation los: 0.09918700158596039\n"
     ]
    },
    {
     "name": "stderr",
     "output_type": "stream",
     "text": [
      "\r",
      " 36%|████████████████████████████████████████████████████▏                                                                                            | 36/100 [16:29<33:14, 31.16s/it]"
     ]
    },
    {
     "name": "stdout",
     "output_type": "stream",
     "text": [
      "validation los: 0.10279149562120438\n"
     ]
    },
    {
     "name": "stderr",
     "output_type": "stream",
     "text": [
      "\r",
      " 37%|█████████████████████████████████████████████████████▋                                                                                           | 37/100 [17:01<32:57, 31.38s/it]"
     ]
    },
    {
     "name": "stdout",
     "output_type": "stream",
     "text": [
      "validation los: 0.12986008822917938\n"
     ]
    },
    {
     "name": "stderr",
     "output_type": "stream",
     "text": [
      "\r",
      " 38%|███████████████████████████████████████████████████████                                                                                          | 38/100 [17:29<31:27, 30.44s/it]"
     ]
    },
    {
     "name": "stdout",
     "output_type": "stream",
     "text": [
      "validation los: 0.08861368894577026\n"
     ]
    },
    {
     "name": "stderr",
     "output_type": "stream",
     "text": [
      "\r",
      " 39%|████████████████████████████████████████████████████████▌                                                                                        | 39/100 [17:51<28:25, 27.95s/it]"
     ]
    },
    {
     "name": "stdout",
     "output_type": "stream",
     "text": [
      "validation los: 0.12742887437343597\n"
     ]
    },
    {
     "name": "stderr",
     "output_type": "stream",
     "text": [
      "\r",
      " 40%|██████████████████████████████████████████████████████████                                                                                       | 40/100 [18:14<26:20, 26.34s/it]"
     ]
    },
    {
     "name": "stdout",
     "output_type": "stream",
     "text": [
      "validation los: 0.08868670463562012\n"
     ]
    },
    {
     "name": "stderr",
     "output_type": "stream",
     "text": [
      "\r",
      " 41%|███████████████████████████████████████████████████████████▍                                                                                     | 41/100 [18:36<24:42, 25.13s/it]"
     ]
    },
    {
     "name": "stdout",
     "output_type": "stream",
     "text": [
      "validation los: 0.046731751412153244\n"
     ]
    },
    {
     "name": "stderr",
     "output_type": "stream",
     "text": [
      "\r",
      " 42%|████████████████████████████████████████████████████████████▉                                                                                    | 42/100 [18:58<23:23, 24.20s/it]"
     ]
    },
    {
     "name": "stdout",
     "output_type": "stream",
     "text": [
      "validation los: 0.10623541474342346\n"
     ]
    },
    {
     "name": "stderr",
     "output_type": "stream",
     "text": [
      "\r",
      " 43%|██████████████████████████████████████████████████████████████▎                                                                                  | 43/100 [19:21<22:33, 23.74s/it]"
     ]
    },
    {
     "name": "stdout",
     "output_type": "stream",
     "text": [
      "validation los: 0.06707008928060532\n"
     ]
    },
    {
     "name": "stderr",
     "output_type": "stream",
     "text": [
      "\r",
      " 44%|███████████████████████████████████████████████████████████████▊                                                                                 | 44/100 [19:43<21:50, 23.40s/it]"
     ]
    },
    {
     "name": "stdout",
     "output_type": "stream",
     "text": [
      "validation los: 0.12902657687664032\n"
     ]
    },
    {
     "name": "stderr",
     "output_type": "stream",
     "text": [
      "\r",
      " 45%|█████████████████████████████████████████████████████████████████▎                                                                               | 45/100 [20:05<21:02, 22.95s/it]"
     ]
    },
    {
     "name": "stdout",
     "output_type": "stream",
     "text": [
      "validation los: 0.1072630062699318\n"
     ]
    },
    {
     "name": "stderr",
     "output_type": "stream",
     "text": [
      "\r",
      " 46%|██████████████████████████████████████████████████████████████████▋                                                                              | 46/100 [20:28<20:33, 22.83s/it]"
     ]
    },
    {
     "name": "stdout",
     "output_type": "stream",
     "text": [
      "validation los: 0.10017511248588562\n"
     ]
    },
    {
     "name": "stderr",
     "output_type": "stream",
     "text": [
      "\r",
      " 47%|████████████████████████████████████████████████████████████████████▏                                                                            | 47/100 [20:50<19:59, 22.64s/it]"
     ]
    },
    {
     "name": "stdout",
     "output_type": "stream",
     "text": [
      "validation los: 0.07813584804534912\n"
     ]
    },
    {
     "name": "stderr",
     "output_type": "stream",
     "text": [
      "\r",
      " 48%|█████████████████████████████████████████████████████████████████████▌                                                                           | 48/100 [21:13<19:39, 22.69s/it]"
     ]
    },
    {
     "name": "stdout",
     "output_type": "stream",
     "text": [
      "validation los: 0.09534549713134766\n"
     ]
    },
    {
     "name": "stderr",
     "output_type": "stream",
     "text": [
      "\r",
      " 49%|███████████████████████████████████████████████████████████████████████                                                                          | 49/100 [21:35<19:09, 22.54s/it]"
     ]
    },
    {
     "name": "stdout",
     "output_type": "stream",
     "text": [
      "validation los: 0.1251133382320404\n"
     ]
    },
    {
     "name": "stderr",
     "output_type": "stream",
     "text": [
      "\r",
      " 50%|████████████████████████████████████████████████████████████████████████▌                                                                        | 50/100 [21:56<18:21, 22.03s/it]"
     ]
    },
    {
     "name": "stdout",
     "output_type": "stream",
     "text": [
      "validation los: 0.04521273821592331\n"
     ]
    },
    {
     "name": "stderr",
     "output_type": "stream",
     "text": [
      "\r",
      " 51%|█████████████████████████████████████████████████████████████████████████▉                                                                       | 51/100 [22:17<17:41, 21.66s/it]"
     ]
    },
    {
     "name": "stdout",
     "output_type": "stream",
     "text": [
      "validation los: 0.11378194391727448\n"
     ]
    },
    {
     "name": "stderr",
     "output_type": "stream",
     "text": [
      "\r",
      " 52%|███████████████████████████████████████████████████████████████████████████▍                                                                     | 52/100 [22:38<17:16, 21.58s/it]"
     ]
    },
    {
     "name": "stdout",
     "output_type": "stream",
     "text": [
      "validation los: 0.07902701944112778\n"
     ]
    },
    {
     "name": "stderr",
     "output_type": "stream",
     "text": [
      "\r",
      " 53%|████████████████████████████████████████████████████████████████████████████▊                                                                    | 53/100 [22:59<16:44, 21.37s/it]"
     ]
    },
    {
     "name": "stdout",
     "output_type": "stream",
     "text": [
      "validation los: 0.11413043737411499\n"
     ]
    },
    {
     "name": "stderr",
     "output_type": "stream",
     "text": [
      "\r",
      " 54%|██████████████████████████████████████████████████████████████████████████████▎                                                                  | 54/100 [23:20<16:12, 21.14s/it]"
     ]
    },
    {
     "name": "stdout",
     "output_type": "stream",
     "text": [
      "validation los: 0.08701739460229874\n"
     ]
    },
    {
     "name": "stderr",
     "output_type": "stream",
     "text": [
      "\r",
      " 55%|███████████████████████████████████████████████████████████████████████████████▊                                                                 | 55/100 [23:40<15:43, 20.96s/it]"
     ]
    },
    {
     "name": "stdout",
     "output_type": "stream",
     "text": [
      "validation los: 0.12237397581338882\n"
     ]
    },
    {
     "name": "stderr",
     "output_type": "stream",
     "text": [
      "\r",
      " 56%|█████████████████████████████████████████████████████████████████████████████████▏                                                               | 56/100 [24:01<15:18, 20.87s/it]"
     ]
    },
    {
     "name": "stdout",
     "output_type": "stream",
     "text": [
      "validation los: 0.0816328376531601\n"
     ]
    },
    {
     "name": "stderr",
     "output_type": "stream",
     "text": [
      "\r",
      " 57%|██████████████████████████████████████████████████████████████████████████████████▋                                                              | 57/100 [24:22<14:57, 20.87s/it]"
     ]
    },
    {
     "name": "stdout",
     "output_type": "stream",
     "text": [
      "validation los: 0.09812045842409134\n"
     ]
    },
    {
     "name": "stderr",
     "output_type": "stream",
     "text": [
      "\r",
      " 58%|████████████████████████████████████████████████████████████████████████████████████                                                             | 58/100 [24:42<14:33, 20.79s/it]"
     ]
    },
    {
     "name": "stdout",
     "output_type": "stream",
     "text": [
      "validation los: 0.11142472922801971\n"
     ]
    },
    {
     "name": "stderr",
     "output_type": "stream",
     "text": [
      "\r",
      " 59%|█████████████████████████████████████████████████████████████████████████████████████▌                                                           | 59/100 [25:03<14:09, 20.73s/it]"
     ]
    },
    {
     "name": "stdout",
     "output_type": "stream",
     "text": [
      "validation los: 0.0678381621837616\n"
     ]
    },
    {
     "name": "stderr",
     "output_type": "stream",
     "text": [
      "\r",
      " 60%|███████████████████████████████████████████████████████████████████████████████████████                                                          | 60/100 [25:24<13:50, 20.77s/it]"
     ]
    },
    {
     "name": "stdout",
     "output_type": "stream",
     "text": [
      "validation los: 0.08335147798061371\n"
     ]
    },
    {
     "name": "stderr",
     "output_type": "stream",
     "text": [
      "\r",
      " 61%|████████████████████████████████████████████████████████████████████████████████████████▍                                                        | 61/100 [25:44<13:27, 20.71s/it]"
     ]
    },
    {
     "name": "stdout",
     "output_type": "stream",
     "text": [
      "validation los: 0.13865314424037933\n"
     ]
    },
    {
     "name": "stderr",
     "output_type": "stream",
     "text": [
      "\r",
      " 62%|█████████████████████████████████████████████████████████████████████████████████████████▉                                                       | 62/100 [26:05<13:07, 20.73s/it]"
     ]
    },
    {
     "name": "stdout",
     "output_type": "stream",
     "text": [
      "validation los: 0.08312633633613586\n"
     ]
    },
    {
     "name": "stderr",
     "output_type": "stream",
     "text": [
      "\r",
      " 63%|███████████████████████████████████████████████████████████████████████████████████████████▎                                                     | 63/100 [26:26<12:48, 20.76s/it]"
     ]
    },
    {
     "name": "stdout",
     "output_type": "stream",
     "text": [
      "validation los: 0.06772379577159882\n"
     ]
    },
    {
     "name": "stderr",
     "output_type": "stream",
     "text": [
      "\r",
      " 64%|████████████████████████████████████████████████████████████████████████████████████████████▊                                                    | 64/100 [26:46<12:25, 20.70s/it]"
     ]
    },
    {
     "name": "stdout",
     "output_type": "stream",
     "text": [
      "validation los: 0.10845794528722763\n"
     ]
    },
    {
     "name": "stderr",
     "output_type": "stream",
     "text": [
      "\r",
      " 65%|██████████████████████████████████████████████████████████████████████████████████████████████▎                                                  | 65/100 [27:07<12:05, 20.73s/it]"
     ]
    },
    {
     "name": "stdout",
     "output_type": "stream",
     "text": [
      "validation los: 0.10892759263515472\n"
     ]
    },
    {
     "name": "stderr",
     "output_type": "stream",
     "text": [
      "\r",
      " 66%|███████████████████████████████████████████████████████████████████████████████████████████████▋                                                 | 66/100 [27:28<11:43, 20.70s/it]"
     ]
    },
    {
     "name": "stdout",
     "output_type": "stream",
     "text": [
      "validation los: 0.06454204767942429\n"
     ]
    },
    {
     "name": "stderr",
     "output_type": "stream",
     "text": [
      "\r",
      " 67%|█████████████████████████████████████████████████████████████████████████████████████████████████▏                                               | 67/100 [27:50<11:34, 21.06s/it]"
     ]
    },
    {
     "name": "stdout",
     "output_type": "stream",
     "text": [
      "validation los: 0.06506366282701492\n"
     ]
    },
    {
     "name": "stderr",
     "output_type": "stream",
     "text": [
      "\r",
      " 68%|██████████████████████████████████████████████████████████████████████████████████████████████████▌                                              | 68/100 [28:11<11:12, 21.02s/it]"
     ]
    },
    {
     "name": "stdout",
     "output_type": "stream",
     "text": [
      "validation los: 0.06534672528505325\n"
     ]
    },
    {
     "name": "stderr",
     "output_type": "stream",
     "text": [
      "\r",
      " 69%|████████████████████████████████████████████████████████████████████████████████████████████████████                                             | 69/100 [28:32<10:55, 21.13s/it]"
     ]
    },
    {
     "name": "stdout",
     "output_type": "stream",
     "text": [
      "validation los: 0.05423954501748085\n"
     ]
    },
    {
     "name": "stderr",
     "output_type": "stream",
     "text": [
      "\r",
      " 70%|█████████████████████████████████████████████████████████████████████████████████████████████████████▌                                           | 70/100 [28:54<10:38, 21.29s/it]"
     ]
    },
    {
     "name": "stdout",
     "output_type": "stream",
     "text": [
      "validation los: 0.11616407334804535\n"
     ]
    },
    {
     "name": "stderr",
     "output_type": "stream",
     "text": [
      "\r",
      " 71%|██████████████████████████████████████████████████████████████████████████████████████████████████████▉                                          | 71/100 [29:15<10:16, 21.26s/it]"
     ]
    },
    {
     "name": "stdout",
     "output_type": "stream",
     "text": [
      "validation los: 0.10218580067157745\n"
     ]
    },
    {
     "name": "stderr",
     "output_type": "stream",
     "text": [
      "\r",
      " 72%|████████████████████████████████████████████████████████████████████████████████████████████████████████▍                                        | 72/100 [29:36<09:52, 21.16s/it]"
     ]
    },
    {
     "name": "stdout",
     "output_type": "stream",
     "text": [
      "validation los: 0.09240947663784027\n"
     ]
    },
    {
     "name": "stderr",
     "output_type": "stream",
     "text": [
      "\r",
      " 73%|█████████████████████████████████████████████████████████████████████████████████████████████████████████▊                                       | 73/100 [29:57<09:28, 21.05s/it]"
     ]
    },
    {
     "name": "stdout",
     "output_type": "stream",
     "text": [
      "validation los: 0.08956613391637802\n"
     ]
    },
    {
     "name": "stderr",
     "output_type": "stream",
     "text": [
      "\r",
      " 74%|███████████████████████████████████████████████████████████████████████████████████████████████████████████▎                                     | 74/100 [30:18<09:07, 21.06s/it]"
     ]
    },
    {
     "name": "stdout",
     "output_type": "stream",
     "text": [
      "validation los: 0.03971312567591667\n"
     ]
    },
    {
     "name": "stderr",
     "output_type": "stream",
     "text": [
      "\r",
      " 75%|████████████████████████████████████████████████████████████████████████████████████████████████████████████▊                                    | 75/100 [30:39<08:51, 21.27s/it]"
     ]
    },
    {
     "name": "stdout",
     "output_type": "stream",
     "text": [
      "validation los: 0.05828255042433739\n"
     ]
    },
    {
     "name": "stderr",
     "output_type": "stream",
     "text": [
      "\r",
      " 76%|██████████████████████████████████████████████████████████████████████████████████████████████████████████████▏                                  | 76/100 [31:01<08:30, 21.28s/it]"
     ]
    },
    {
     "name": "stdout",
     "output_type": "stream",
     "text": [
      "validation los: 0.03950217366218567\n"
     ]
    },
    {
     "name": "stderr",
     "output_type": "stream",
     "text": [
      "\r",
      " 77%|███████████████████████████████████████████████████████████████████████████████████████████████████████████████▋                                 | 77/100 [31:23<08:12, 21.42s/it]"
     ]
    },
    {
     "name": "stdout",
     "output_type": "stream",
     "text": [
      "validation los: 0.08840415626764297\n"
     ]
    },
    {
     "name": "stderr",
     "output_type": "stream",
     "text": [
      "\r",
      " 78%|█████████████████████████████████████████████████████████████████████████████████████████████████████████████████                                | 78/100 [31:44<07:51, 21.44s/it]"
     ]
    },
    {
     "name": "stdout",
     "output_type": "stream",
     "text": [
      "validation los: 0.07419177144765854\n"
     ]
    },
    {
     "name": "stderr",
     "output_type": "stream",
     "text": [
      "\r",
      " 79%|██████████████████████████████████████████████████████████████████████████████████████████████████████████████████▌                              | 79/100 [32:06<07:31, 21.52s/it]"
     ]
    },
    {
     "name": "stdout",
     "output_type": "stream",
     "text": [
      "validation los: 0.03715018555521965\n"
     ]
    },
    {
     "name": "stderr",
     "output_type": "stream",
     "text": [
      "\r",
      " 80%|████████████████████████████████████████████████████████████████████████████████████████████████████████████████████                             | 80/100 [32:28<07:14, 21.74s/it]"
     ]
    },
    {
     "name": "stdout",
     "output_type": "stream",
     "text": [
      "validation los: 0.035207826644182205\n"
     ]
    },
    {
     "name": "stderr",
     "output_type": "stream",
     "text": [
      "\r",
      " 81%|█████████████████████████████████████████████████████████████████████████████████████████████████████████████████████▍                           | 81/100 [32:50<06:54, 21.81s/it]"
     ]
    },
    {
     "name": "stdout",
     "output_type": "stream",
     "text": [
      "validation los: 0.07842805981636047\n"
     ]
    },
    {
     "name": "stderr",
     "output_type": "stream",
     "text": [
      "\r",
      " 82%|██████████████████████████████████████████████████████████████████████████████████████████████████████████████████████▉                          | 82/100 [33:12<06:31, 21.77s/it]"
     ]
    },
    {
     "name": "stdout",
     "output_type": "stream",
     "text": [
      "validation los: 0.15798282623291016\n"
     ]
    },
    {
     "name": "stderr",
     "output_type": "stream",
     "text": [
      "\r",
      " 83%|████████████████████████████████████████████████████████████████████████████████████████████████████████████████████████▎                        | 83/100 [33:33<06:09, 21.72s/it]"
     ]
    },
    {
     "name": "stdout",
     "output_type": "stream",
     "text": [
      "validation los: 0.05672762170433998\n"
     ]
    },
    {
     "name": "stderr",
     "output_type": "stream",
     "text": [
      "\r",
      " 84%|█████████████████████████████████████████████████████████████████████████████████████████████████████████████████████████▊                       | 84/100 [33:55<05:48, 21.80s/it]"
     ]
    },
    {
     "name": "stdout",
     "output_type": "stream",
     "text": [
      "validation los: 0.07231512665748596\n"
     ]
    },
    {
     "name": "stderr",
     "output_type": "stream",
     "text": [
      "\r",
      " 85%|███████████████████████████████████████████████████████████████████████████████████████████████████████████████████████████▎                     | 85/100 [34:17<05:26, 21.78s/it]"
     ]
    },
    {
     "name": "stdout",
     "output_type": "stream",
     "text": [
      "validation los: 0.14405566453933716\n"
     ]
    },
    {
     "name": "stderr",
     "output_type": "stream",
     "text": [
      "\r",
      " 86%|████████████████████████████████████████████████████████████████████████████████████████████████████████████████████████████▋                    | 86/100 [34:38<05:03, 21.68s/it]"
     ]
    },
    {
     "name": "stdout",
     "output_type": "stream",
     "text": [
      "validation los: 0.04726526141166687\n"
     ]
    },
    {
     "name": "stderr",
     "output_type": "stream",
     "text": [
      "\r",
      " 87%|██████████████████████████████████████████████████████████████████████████████████████████████████████████████████████████████▏                  | 87/100 [35:00<04:42, 21.77s/it]"
     ]
    },
    {
     "name": "stdout",
     "output_type": "stream",
     "text": [
      "validation los: 0.12178011983633041\n"
     ]
    },
    {
     "name": "stderr",
     "output_type": "stream",
     "text": [
      "\r",
      " 88%|███████████████████████████████████████████████████████████████████████████████████████████████████████████████████████████████▌                 | 88/100 [35:22<04:20, 21.69s/it]"
     ]
    },
    {
     "name": "stdout",
     "output_type": "stream",
     "text": [
      "validation los: 0.21501052379608154\n"
     ]
    },
    {
     "name": "stderr",
     "output_type": "stream",
     "text": [
      "\r",
      " 89%|█████████████████████████████████████████████████████████████████████████████████████████████████████████████████████████████████                | 89/100 [35:44<04:00, 21.88s/it]"
     ]
    },
    {
     "name": "stdout",
     "output_type": "stream",
     "text": [
      "validation los: 0.0949777364730835\n"
     ]
    },
    {
     "name": "stderr",
     "output_type": "stream",
     "text": [
      "\r",
      " 90%|██████████████████████████████████████████████████████████████████████████████████████████████████████████████████████████████████▌              | 90/100 [36:06<03:37, 21.78s/it]"
     ]
    },
    {
     "name": "stdout",
     "output_type": "stream",
     "text": [
      "validation los: 0.15615031123161316\n"
     ]
    },
    {
     "name": "stderr",
     "output_type": "stream",
     "text": [
      "\r",
      " 91%|███████████████████████████████████████████████████████████████████████████████████████████████████████████████████████████████████▉             | 91/100 [36:28<03:16, 21.87s/it]"
     ]
    },
    {
     "name": "stdout",
     "output_type": "stream",
     "text": [
      "validation los: 0.043028879910707474\n"
     ]
    },
    {
     "name": "stderr",
     "output_type": "stream",
     "text": [
      "\r",
      " 92%|█████████████████████████████████████████████████████████████████████████████████████████████████████████████████████████████████████▍           | 92/100 [36:50<02:55, 21.92s/it]"
     ]
    },
    {
     "name": "stdout",
     "output_type": "stream",
     "text": [
      "validation los: 0.06990354508161545\n"
     ]
    },
    {
     "name": "stderr",
     "output_type": "stream",
     "text": [
      "\r",
      " 93%|██████████████████████████████████████████████████████████████████████████████████████████████████████████████████████████████████████▊          | 93/100 [37:12<02:32, 21.84s/it]"
     ]
    },
    {
     "name": "stdout",
     "output_type": "stream",
     "text": [
      "validation los: 0.07211080193519592\n"
     ]
    },
    {
     "name": "stderr",
     "output_type": "stream",
     "text": [
      "\r",
      " 94%|████████████████████████████████████████████████████████████████████████████████████████████████████████████████████████████████████████▎        | 94/100 [37:34<02:11, 21.90s/it]"
     ]
    },
    {
     "name": "stdout",
     "output_type": "stream",
     "text": [
      "validation los: 0.02725880779325962\n"
     ]
    },
    {
     "name": "stderr",
     "output_type": "stream",
     "text": [
      "\r",
      " 95%|█████████████████████████████████████████████████████████████████████████████████████████████████████████████████████████████████████████▊       | 95/100 [37:55<01:48, 21.77s/it]"
     ]
    },
    {
     "name": "stdout",
     "output_type": "stream",
     "text": [
      "validation los: 0.12789951264858246\n"
     ]
    },
    {
     "name": "stderr",
     "output_type": "stream",
     "text": [
      "\r",
      " 96%|███████████████████████████████████████████████████████████████████████████████████████████████████████████████████████████████████████████▏     | 96/100 [38:17<01:27, 21.80s/it]"
     ]
    },
    {
     "name": "stdout",
     "output_type": "stream",
     "text": [
      "validation los: 0.0476667582988739\n"
     ]
    },
    {
     "name": "stderr",
     "output_type": "stream",
     "text": [
      "\r",
      " 97%|████████████████████████████████████████████████████████████████████████████████████████████████████████████████████████████████████████████▋    | 97/100 [38:39<01:05, 21.85s/it]"
     ]
    },
    {
     "name": "stdout",
     "output_type": "stream",
     "text": [
      "validation los: 0.09201046079397202\n"
     ]
    },
    {
     "name": "stderr",
     "output_type": "stream",
     "text": [
      "\r",
      " 98%|██████████████████████████████████████████████████████████████████████████████████████████████████████████████████████████████████████████████   | 98/100 [39:00<00:43, 21.62s/it]"
     ]
    },
    {
     "name": "stdout",
     "output_type": "stream",
     "text": [
      "validation los: 0.06354916095733643\n"
     ]
    },
    {
     "name": "stderr",
     "output_type": "stream",
     "text": [
      "\r",
      " 99%|███████████████████████████████████████████████████████████████████████████████████████████████████████████████████████████████████████████████▌ | 99/100 [39:21<00:21, 21.46s/it]"
     ]
    },
    {
     "name": "stdout",
     "output_type": "stream",
     "text": [
      "validation los: 0.051377832889556885\n"
     ]
    },
    {
     "name": "stderr",
     "output_type": "stream",
     "text": [
      "100%|████████████████████████████████████████████████████████████████████████████████████████████████████████████████████████████████████████████████| 100/100 [39:42<00:00, 23.83s/it]"
     ]
    },
    {
     "name": "stdout",
     "output_type": "stream",
     "text": [
      "validation los: 0.05585085600614548\n"
     ]
    },
    {
     "name": "stderr",
     "output_type": "stream",
     "text": [
      "\n"
     ]
    }
   ],
   "source": [
    "## Train!\n",
    "n_iter = 0\n",
    "for epoch in tqdm(range(EPOCHS)):\n",
    "    for i, (X, y) in enumerate(trainset):\n",
    "        X = X.to(device=device)\n",
    "        y = y.to(device=device)\n",
    "        \n",
    "        output = net(X)\n",
    "        y = y.view(-1, 1)\n",
    "        \n",
    "        \n",
    "        loss = criteria(output, y)\n",
    "        optimizer.zero_grad()\n",
    "        loss.backward()\n",
    "        optimizer.step()\n",
    "        \n",
    "        \n",
    "        val_loss = test_loss(net, testset, criteria)\n",
    "        writer.add_scalar('Loss/train', loss, n_iter)\n",
    "        writer.add_scalar('Loss/val_loss', val_loss, n_iter)\n",
    "        x, t, r2, a, b, RMSE, MSE = test_model(net, testset)\n",
    "        writer.add_scalar('Regression/slope', a, n_iter)\n",
    "        writer.add_scalar('Regression/intercept', b, n_iter)\n",
    "        writer.add_scalar('Regression/R2', r2, n_iter)\n",
    "        writer.add_scalar('Regression/RMSE', RMSE, n_iter)\n",
    "        writer.add_scalar('Regression/MSE', RMSE, n_iter)\n",
    "        n_iter += 1\n",
    "    val_loss = test_loss(net, testset, criteria)\n",
    "    print(f'validation los: {val_loss}')"
   ]
  }
 ],
 "metadata": {
  "kernelspec": {
   "display_name": "Python 3",
   "language": "python",
   "name": "python3"
  },
  "language_info": {
   "codemirror_mode": {
    "name": "ipython",
    "version": 3
   },
   "file_extension": ".py",
   "mimetype": "text/x-python",
   "name": "python",
   "nbconvert_exporter": "python",
   "pygments_lexer": "ipython3",
   "version": "3.8.5"
  }
 },
 "nbformat": 4,
 "nbformat_minor": 5
}
